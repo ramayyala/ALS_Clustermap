{
 "cells": [
  {
   "cell_type": "code",
   "execution_count": 7,
   "id": "ed763095",
   "metadata": {},
   "outputs": [
    {
     "name": "stdout",
     "output_type": "stream",
     "text": [
      "input coordinates34.022451 -118.283125\n",
      "is a float\n"
     ]
    }
   ],
   "source": [
    "test=input(\"input coordinates\").split()\n",
    "test[0]=float(test[0])\n",
    "if isinstance(test[0],float):\n",
    "    print (\"is a float\")\n",
    "else:\n",
    "    print(\"not a float\")"
   ]
  },
  {
   "cell_type": "code",
   "execution_count": 73,
   "id": "c0cbb1bb",
   "metadata": {},
   "outputs": [],
   "source": []
  },
  {
   "cell_type": "code",
   "execution_count": null,
   "id": "6e183a27",
   "metadata": {},
   "outputs": [],
   "source": [
    "while True:\n",
    "    data = input(\"Please enter a loud message (must be all caps): \")\n",
    "    if not data.isupper():\n",
    "        print(\"Sorry, your response was not loud enough.\")\n",
    "        continue\n",
    "    else:\n",
    "        #we're happy with the value given.\n",
    "        #we're ready to exit the loop.\n",
    "        break"
   ]
  },
  {
   "cell_type": "code",
   "execution_count": 93,
   "id": "825de1a0",
   "metadata": {},
   "outputs": [],
   "source": [
    "dictionary={}\n",
    "def location():\n",
    "    name = \"Start\"\n",
    "    while name.upper() != \"END\":\n",
    "        name = input(\"What's the name of the location? \")\n",
    "        if name.upper() == \"END\":\n",
    "            break\n",
    "        while True: \n",
    "            coordinates = input(\"What are the X and Y coordinates? \").split()\n",
    "            if not all(isfloat(x) for x in coordinates):\n",
    "                print ('Please only enter numeric values for the X and Y coordinates.')\n",
    "            elif len(coordinates) != 2:\n",
    "                print ('Please only enter two numeric values for the X and Y coordinates.')\n",
    "                \n",
    "            else:\n",
    "                coordinates[0] = float(coordinates[0])\n",
    "                coordinates[1] = float(coordinates[1])\n",
    "                print(\"Saved!\")\n",
    "                dictionary[name] = coordinates\n",
    "                print(dictionary)\n",
    "                break\n"
   ]
  },
  {
   "cell_type": "code",
   "execution_count": 94,
   "id": "01a49432",
   "metadata": {},
   "outputs": [
    {
     "name": "stdout",
     "output_type": "stream",
     "text": [
      "What's the name of the location? USC\n",
      "What are the X and Y coordinates? 34.022451 -118.283125\n",
      "Saved!\n",
      "{'USC': [34.022451, -118.283125]}\n",
      "What's the name of the location? UCLA\n",
      "What are the X and Y coordinates? brentwood\n",
      "Please only enter numeric values for the X and Y coordinates.\n",
      "What are the X and Y coordinates? 34.0684958\n",
      "Please only enter two numeric values for the X and Y coordinates.\n",
      "What are the X and Y coordinates? 34.0684958 -118.4488919 34.022451\n",
      "Please only enter two numeric values for the X and Y coordinates.\n",
      "What are the X and Y coordinates? 34.0684958 -118.4488919\n",
      "Saved!\n",
      "{'USC': [34.022451, -118.283125], 'UCLA': [34.0684958, -118.4488919]}\n",
      "What's the name of the location? END\n"
     ]
    }
   ],
   "source": [
    "location()"
   ]
  },
  {
   "cell_type": "code",
   "execution_count": 92,
   "id": "00cf7525",
   "metadata": {},
   "outputs": [
    {
     "data": {
      "text/plain": [
       "True"
      ]
     },
     "execution_count": 92,
     "metadata": {},
     "output_type": "execute_result"
    }
   ],
   "source": [
    "coordinates =[\"34.022451\", \"-118.283125\"]\n",
    "all(isfloat(x) for x in coordinates)"
   ]
  },
  {
   "cell_type": "code",
   "execution_count": 42,
   "id": "79ff6eed",
   "metadata": {},
   "outputs": [
    {
     "name": "stdout",
     "output_type": "stream",
     "text": [
      "What are the X and Y coordinates? 34.022451 -118.283125\n"
     ]
    }
   ],
   "source": [
    "coordinates = input(\"What are the X and Y coordinates? \").split()\n",
    "if isfloat(coordinates[0]) and isfloat(coordinates[1]):\n",
    "    coordinates[0] = float(coordinates[0])\n",
    "    coordinates[1] = float(coordinates[1])\n",
    "else:\n",
    "    print(\"nothing\")"
   ]
  },
  {
   "cell_type": "code",
   "execution_count": 32,
   "id": "2e70f202",
   "metadata": {},
   "outputs": [
    {
     "name": "stdout",
     "output_type": "stream",
     "text": [
      "What are the X and Y coordinates? 34.022451 -118.283125\n"
     ]
    }
   ],
   "source": [
    "coordinates = input(\"What are the X and Y coordinates? \").split()"
   ]
  },
  {
   "cell_type": "code",
   "execution_count": 18,
   "id": "5bf7bfda",
   "metadata": {},
   "outputs": [
    {
     "data": {
      "text/plain": [
       "False"
      ]
     },
     "execution_count": 18,
     "metadata": {},
     "output_type": "execute_result"
    }
   ],
   "source": [
    "coordinates[0].isdigit()"
   ]
  },
  {
   "cell_type": "code",
   "execution_count": 31,
   "id": "32a266d5",
   "metadata": {},
   "outputs": [
    {
     "ename": "ValueError",
     "evalue": "could not convert string to float: '34.022451 -118.283125'",
     "output_type": "error",
     "traceback": [
      "\u001b[0;31m---------------------------------------------------------------------------\u001b[0m",
      "\u001b[0;31mValueError\u001b[0m                                Traceback (most recent call last)",
      "\u001b[0;32m/tmp/ipykernel_2067/1306388459.py\u001b[0m in \u001b[0;36m<module>\u001b[0;34m\u001b[0m\n\u001b[0;32m----> 1\u001b[0;31m \u001b[0mfloat\u001b[0m\u001b[0;34m(\u001b[0m\u001b[0mcoordinates\u001b[0m\u001b[0;34m)\u001b[0m\u001b[0;34m\u001b[0m\u001b[0;34m\u001b[0m\u001b[0m\n\u001b[0m",
      "\u001b[0;31mValueError\u001b[0m: could not convert string to float: '34.022451 -118.283125'"
     ]
    }
   ],
   "source": [
    "float(coordinates)"
   ]
  },
  {
   "cell_type": "code",
   "execution_count": 22,
   "id": "43e30cc9",
   "metadata": {},
   "outputs": [
    {
     "data": {
      "text/plain": [
       "False"
      ]
     },
     "execution_count": 22,
     "metadata": {},
     "output_type": "execute_result"
    }
   ],
   "source": [
    "coordinates[0].isnumeric()"
   ]
  },
  {
   "cell_type": "code",
   "execution_count": 38,
   "id": "87b5059f",
   "metadata": {},
   "outputs": [
    {
     "ename": "NameError",
     "evalue": "name 'isfloat' is not defined",
     "output_type": "error",
     "traceback": [
      "\u001b[0;31m---------------------------------------------------------------------------\u001b[0m",
      "\u001b[0;31mNameError\u001b[0m                                 Traceback (most recent call last)",
      "\u001b[0;32m/tmp/ipykernel_2067/1017901837.py\u001b[0m in \u001b[0;36m<module>\u001b[0;34m\u001b[0m\n\u001b[1;32m      1\u001b[0m \u001b[0mtest\u001b[0m\u001b[0;34m=\u001b[0m\u001b[0;34m'2341'\u001b[0m\u001b[0;34m\u001b[0m\u001b[0;34m\u001b[0m\u001b[0m\n\u001b[0;32m----> 2\u001b[0;31m \u001b[0mprint\u001b[0m\u001b[0;34m(\u001b[0m\u001b[0misfloat\u001b[0m\u001b[0;34m(\u001b[0m\u001b[0mtest\u001b[0m\u001b[0;34m)\u001b[0m\u001b[0;34m)\u001b[0m\u001b[0;34m\u001b[0m\u001b[0;34m\u001b[0m\u001b[0m\n\u001b[0m",
      "\u001b[0;31mNameError\u001b[0m: name 'isfloat' is not defined"
     ]
    }
   ],
   "source": [
    "test='2341'\n",
    "print(isfloat(test))\n"
   ]
  },
  {
   "cell_type": "code",
   "execution_count": 40,
   "id": "aebfa807",
   "metadata": {},
   "outputs": [
    {
     "name": "stdout",
     "output_type": "stream",
     "text": [
      "True\n",
      "True\n"
     ]
    }
   ],
   "source": [
    "def isfloat(num):\n",
    "    try:\n",
    "        float(num)\n",
    "        return True\n",
    "    except ValueError:\n",
    "        return False\n",
    "print(isfloat('34.022451'))\n",
    "print(isfloat('1.123'))"
   ]
  },
  {
   "cell_type": "code",
   "execution_count": null,
   "id": "075fd9dc",
   "metadata": {},
   "outputs": [],
   "source": []
  },
  {
   "cell_type": "code",
   "execution_count": 95,
   "id": "cbf68463",
   "metadata": {},
   "outputs": [],
   "source": [
    "dictionary={'USC': [34.022451, -118.283125], 'UCLA': [34.0684958, -118.4488919]}\n"
   ]
  },
  {
   "cell_type": "code",
   "execution_count": 111,
   "id": "16b7e808",
   "metadata": {},
   "outputs": [
    {
     "data": {
      "text/plain": [
       "{'USC': [34.022451, -118.283125], 'UCLA': [34.0684958, -118.4488919]}"
      ]
     },
     "execution_count": 111,
     "metadata": {},
     "output_type": "execute_result"
    }
   ],
   "source": [
    "dictionary"
   ]
  },
  {
   "cell_type": "code",
   "execution_count": null,
   "id": "3534f663",
   "metadata": {},
   "outputs": [],
   "source": []
  },
  {
   "cell_type": "code",
   "execution_count": 103,
   "id": "9a3b68b8",
   "metadata": {},
   "outputs": [
    {
     "name": "stdout",
     "output_type": "stream",
     "text": [
      "1. USC\n",
      "2. UCLA\n"
     ]
    }
   ],
   "source": [
    "    i=1\n",
    "    for key in dictionary:\n",
    "        print (str(i)+\".\",key)\n",
    "        i+=1"
   ]
  },
  {
   "cell_type": "code",
   "execution_count": 110,
   "id": "2a5f2ff0",
   "metadata": {},
   "outputs": [],
   "source": [
    "test='1'"
   ]
  },
  {
   "cell_type": "code",
   "execution_count": 117,
   "id": "9a7f976e",
   "metadata": {},
   "outputs": [],
   "source": [
    "    def isnum(num):\n",
    "        try:\n",
    "            int(num)\n",
    "            return True \n",
    "        except ValueError:\n",
    "            return False"
   ]
  },
  {
   "cell_type": "code",
   "execution_count": 158,
   "id": "3daf58ec",
   "metadata": {},
   "outputs": [],
   "source": [
    "def valid_input(first_input):\n",
    "    if not isnum(first_input):\n",
    "        print(first_input + 'is not a valid location!')\n",
    "    test_input=int(first_input)-1\n",
    "    if not test_input in range(len(dictionary.keys())):\n",
    "        print(first_input,'is not a valid location!')\n",
    "    else:\n",
    "        print('num is good')\n",
    "    \n",
    "    \n",
    "    "
   ]
  },
  {
   "cell_type": "code",
   "execution_count": 176,
   "id": "dff1c9a4",
   "metadata": {},
   "outputs": [
    {
     "data": {
      "text/plain": [
       "float"
      ]
     },
     "execution_count": 176,
     "metadata": {},
     "output_type": "execute_result"
    }
   ],
   "source": [
    "type(dictionary[list(dictionary.keys())[0]][0])"
   ]
  },
  {
   "cell_type": "code",
   "execution_count": 159,
   "id": "c6472412",
   "metadata": {},
   "outputs": [
    {
     "name": "stdout",
     "output_type": "stream",
     "text": [
      "num is good\n"
     ]
    }
   ],
   "source": [
    "valid_input(test)"
   ]
  },
  {
   "cell_type": "code",
   "execution_count": 127,
   "id": "ba97815d",
   "metadata": {},
   "outputs": [
    {
     "data": {
      "text/plain": [
       "2"
      ]
     },
     "execution_count": 127,
     "metadata": {},
     "output_type": "execute_result"
    }
   ],
   "source": [
    "len(dictionary.keys())"
   ]
  },
  {
   "cell_type": "code",
   "execution_count": 172,
   "id": "eb676b60",
   "metadata": {},
   "outputs": [],
   "source": [
    "from scipy.spatial import distance"
   ]
  },
  {
   "cell_type": "code",
   "execution_count": 173,
   "id": "23d5e53b",
   "metadata": {},
   "outputs": [
    {
     "ename": "TypeError",
     "evalue": "euclidean() missing 2 required positional arguments: 'u' and 'v'",
     "output_type": "error",
     "traceback": [
      "\u001b[0;31m---------------------------------------------------------------------------\u001b[0m",
      "\u001b[0;31mTypeError\u001b[0m                                 Traceback (most recent call last)",
      "\u001b[0;32m/tmp/ipykernel_2067/2392307729.py\u001b[0m in \u001b[0;36m<module>\u001b[0;34m\u001b[0m\n\u001b[0;32m----> 1\u001b[0;31m \u001b[0mdistance\u001b[0m\u001b[0;34m.\u001b[0m\u001b[0meuclidean\u001b[0m\u001b[0;34m(\u001b[0m\u001b[0;34m)\u001b[0m\u001b[0;34m\u001b[0m\u001b[0;34m\u001b[0m\u001b[0m\n\u001b[0m",
      "\u001b[0;31mTypeError\u001b[0m: euclidean() missing 2 required positional arguments: 'u' and 'v'"
     ]
    }
   ],
   "source": [
    "distance.euclidean()"
   ]
  }
 ],
 "metadata": {
  "kernelspec": {
   "display_name": "Python 3 (ipykernel)",
   "language": "python",
   "name": "python3"
  },
  "language_info": {
   "codemirror_mode": {
    "name": "ipython",
    "version": 3
   },
   "file_extension": ".py",
   "mimetype": "text/x-python",
   "name": "python",
   "nbconvert_exporter": "python",
   "pygments_lexer": "ipython3",
   "version": "3.8.12"
  }
 },
 "nbformat": 4,
 "nbformat_minor": 5
}
